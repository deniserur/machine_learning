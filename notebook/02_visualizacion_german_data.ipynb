{
 "cells": [
  {
   "cell_type": "code",
   "execution_count": null,
   "metadata": {},
   "outputs": [],
   "source": [
    "# Truco para integrar graficos de matplotlib en la libreta\n",
    "%matplotlib inline\n",
    "import matplotlib.pyplot as plt\n",
    "import pandas as pd"
   ]
  },
  {
   "cell_type": "code",
   "execution_count": null,
   "metadata": {},
   "outputs": [],
   "source": [
    "attribute_desc = {\n",
    "# Status of existing checking account\n",
    "'A11': \"... <    0 DM\",\n",
    "'A12': '0 <= ... <  200 DM',\n",
    "'A13': '     ... >= 200 DM',\n",
    "'A14': 'no checking account',\n",
    "# Duration in month\n",
    "# Credit history\n",
    "'A30': 'no credits taken',\n",
    "'A31': 'all credits at this bank paid back duly',\n",
    "'A32': 'existing credits paid back duly till now',\n",
    "'A33': 'delay in paying off in the past',\n",
    "'A34': 'critical account',\n",
    "# Purpose\n",
    "'A40': 'car (new)',\n",
    "'A41': 'car (used)',\n",
    "'A42': 'furniture/equipment',\n",
    "'A43': 'radio/television',\n",
    "'A44': 'domestic appliances',\n",
    "'A45': 'repairs',\n",
    "'A46': 'education',\n",
    "'A47': 'vacation',\n",
    "'A48': 'retraining',\n",
    "'A49': 'business',\n",
    "'A410': 'others',\n",
    "# Credit amount\n",
    "# Savings account/bonds\n",
    "'A61':   '       ... <  100 DM',\n",
    "'A62':   '100 <= ... <  500 DM',\n",
    "'A63':   '500 <= ... < 1000 DM',\n",
    "'A64':   '       .. >= 1000 DM',\n",
    "'A65':   'unknown/ no savings account',\n",
    "#Present employment since\n",
    "'A71' : 'unemployed',\n",
    "'A72' :  '... < 1 year',\n",
    "'A73' : '1  <= ... < 4 years',\n",
    "'A74' : '4  <= ... < 7 years',\n",
    "'A75' : '.. >= 7 years',\n",
    "# Installment rate in percentage of disposable income\n",
    "# Personal status and sex\n",
    "'A91' : 'male   : divorced/separated',\n",
    "'A92' : 'female : divorced/separated/married',\n",
    "'A93' : 'male   : single',\n",
    "'A94' : 'male   : married/widowed',\n",
    "'A95' : 'female : single',\n",
    "#Other debtors / guarantors\n",
    "'A101' : 'none',\n",
    "'A102' : 'co-applicant',\n",
    "'A103' : 'guarantor',\n",
    "#Present residence since\n",
    "#Property\n",
    "'A121' : 'real estate',\n",
    "'A122' : 'if not A121 : building society savings agreement/life insurance',\n",
    "'A123' : 'if not A121/A122 : car or other, not in attribute 6',\n",
    "'A124' : 'unknown / no property',\n",
    "# Age in years\n",
    "# Other installment plans \n",
    "'A141' : 'bank',\n",
    "'A142' : 'stores',\n",
    "'A143' : 'none',\n",
    "# Housing\n",
    "'A151' : 'rent',\n",
    "'A152' : 'own',\n",
    "'A153' : 'for free',\n",
    "# Number of existing credits at this bank\n",
    "# Job\n",
    "'A171': 'unemployed/ unskilled - non-resident',\n",
    "'A172': 'unskilled - resident',\n",
    "'A173': 'skilled employee / official',\n",
    "'A174': 'management/self-employed/highly qualified employee/officer',\n",
    "# Number of people being liable to provide maintenance for\n",
    "# Telephone\n",
    "'A191': 'none',\n",
    "'A192': 'yes, registered under the customers name',\n",
    "# Foreign worker\n",
    "'A201': 'yes',\n",
    "'A202': 'no',\n",
    "}\n",
    "\n",
    "column_name = ['checking', 'duration_', 'history', 'purpose', 'amount_', 'savings',\n",
    "               'employment', 'installment_', 'personal', 'guarantors', 'recidence_', \n",
    "               'property', 'age_', 'other', 'housing', 'credits_',\n",
    "               'job', 'liable_', 'telephone', 'foreign', 'is_good']"
   ]
  },
  {
   "cell_type": "code",
   "execution_count": null,
   "metadata": {},
   "outputs": [],
   "source": [
    "# Leer el dataset\n",
    "german_data = pd.read_csv('../data/german.data', delim_whitespace=True, names=column_name)"
   ]
  },
  {
   "cell_type": "code",
   "execution_count": null,
   "metadata": {},
   "outputs": [],
   "source": [
    "# Exploración de los datos"
   ]
  }
 ],
 "metadata": {
  "kernelspec": {
   "display_name": "Python 3",
   "language": "python",
   "name": "python3"
  },
  "language_info": {
   "codemirror_mode": {
    "name": "ipython",
    "version": 3
   },
   "file_extension": ".py",
   "mimetype": "text/x-python",
   "name": "python",
   "nbconvert_exporter": "python",
   "pygments_lexer": "ipython3",
   "version": "3.6.4"
  }
 },
 "nbformat": 4,
 "nbformat_minor": 1
}
